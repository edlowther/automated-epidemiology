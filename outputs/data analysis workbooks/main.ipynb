{
 "cells": [
  {
   "cell_type": "code",
   "execution_count": 1,
   "id": "fb7c7332-e671-4595-bf5d-c0ff3eca0db9",
   "metadata": {},
   "outputs": [
    {
     "data": {
      "text/plain": [
       "True"
      ]
     },
     "execution_count": 1,
     "metadata": {},
     "output_type": "execute_result"
    }
   ],
   "source": [
    "import os\n",
    "\n",
    "import hashlib\n",
    "import shutil\n",
    "from pathlib import Path\n",
    "import time\n",
    "import logging\n",
    "\n",
    "\n",
    "from ldp.agent import AgentConfig\n",
    "from ldp.alg.rollout import RolloutManager\n",
    "from ldp.data_structures import Trajectory, Transition\n",
    "\n",
    "from fhda.data_analysis_env import DataAnalysisEnv\n",
    "from fhda.notebook_env import NBEnvironment\n",
    "from fhda.utils import NBLanguage\n",
    "from fhda import prompts\n",
    "import fhda.config as cfg\n",
    "\n",
    "from dotenv import load_dotenv \n",
    "load_dotenv()"
   ]
  },
  {
   "cell_type": "code",
   "execution_count": 2,
   "id": "b021d019-c7dc-4f42-b251-08c4cf4b5d24",
   "metadata": {},
   "outputs": [],
   "source": [
    "def setup_data_analysis_env(\n",
    "    query: str, dataset: Path, language: NBLanguage = NBLanguage.PYTHON\n",
    "):\n",
    "    # Hash the task to get a unique identifier\n",
    "    task_hash = hashlib.sha256(query.encode()).hexdigest()\n",
    "    trajectory_path = (\n",
    "        Path(os.path.abspath(\"tmp_results_dir\")) / f\"{task_hash}-{time.time()}\"\n",
    "    )\n",
    "    trajectory_path.mkdir(parents=True, exist_ok=True)\n",
    "    nb_path = trajectory_path / NBEnvironment.NOTEBOOK_NAME\n",
    "    # Copy task data to trajectory path\n",
    "    if dataset.is_dir():\n",
    "        for item in dataset.iterdir():\n",
    "            if item.is_file():\n",
    "                shutil.copy2(item, trajectory_path)\n",
    "            elif item.is_dir():\n",
    "                shutil.copytree(item, trajectory_path / item.name, dirs_exist_ok=True)\n",
    "    else:\n",
    "        shutil.copy2(dataset, trajectory_path)\n",
    "    # Augment incoming task with CoT instructions\n",
    "    augmented_task = f\"\"\"\\\n",
    "    Here is the user query to address:\n",
    "\n",
    "\n",
    "    <query>\n",
    "    {query}\n",
    "    </query>\n",
    "\n",
    "    {prompts.CHAIN_OF_THOUGHT_AGNOSTIC.format(language=language.name)}\n",
    "    {prompts.GENERAL_NOTEBOOK_GUIDELINES.format(language=language.name)}\"\"\"\n",
    "\n",
    "    if language == NBLanguage.R:\n",
    "        augmented_task += f\"\\n{prompts.R_SPECIFIC_GUIDELINES}\"\n",
    "\n",
    "    dae = DataAnalysisEnv(\n",
    "        problem_id=f\"data-analysis-task-{task_hash}\",\n",
    "        problem=augmented_task,\n",
    "        eval_mode=None,\n",
    "        nb_path=nb_path,\n",
    "        work_dir=trajectory_path,\n",
    "        language=language,\n",
    "        system_prompt=prompts.CAPSULE_SYSTEM_PROMPT_QUERY,\n",
    "        use_tmp_work_dir=False\n",
    "    )\n",
    "    return dae"
   ]
  },
  {
   "cell_type": "code",
   "execution_count": 10,
   "id": "758e60f9-1d49-47ce-95e7-46ee01107d1a",
   "metadata": {},
   "outputs": [],
   "source": [
    "# ENVIRONMENT CONFIGURATION\n",
    "# ANTHROPIC_API_KEY and OPENAI_API_KEY handled by dotenv\n",
    "cfg.USE_DOCKER = False\n",
    "LANGUAGE = NBLanguage.PYTHON\n",
    "MAX_STEPS = 30\n",
    "# MODEL_NAME = \"claude-sonnet-4-20250514\"\n",
    "MODEL_NAME = \"gpt-4.1-2025-04-14\""
   ]
  },
  {
   "cell_type": "code",
   "execution_count": 11,
   "id": "36098854-12ef-4be3-aa01-fa97718a54d9",
   "metadata": {},
   "outputs": [
    {
     "name": "stdout",
     "output_type": "stream",
     "text": [
      "hello\n"
     ]
    }
   ],
   "source": [
    "print('hello')"
   ]
  },
  {
   "cell_type": "code",
   "execution_count": 12,
   "id": "c61f4b6f-f600-4209-be46-89d7a973b66e",
   "metadata": {},
   "outputs": [
    {
     "name": "stderr",
     "output_type": "stream",
     "text": [
      "\u001b[92m18:36:41 - LiteLLM:WARNING\u001b[0m: logging_callback_manager.py:124 - Cannot add callback - would exceed MAX_CALLBACKS limit of 30. Current callbacks: 30\n",
      "\u001b[92m18:36:41 - LiteLLM:WARNING\u001b[0m: logging_callback_manager.py:124 - Cannot add callback - would exceed MAX_CALLBACKS limit of 30. Current callbacks: 30\n",
      "\u001b[92m18:36:41 - LiteLLM:WARNING\u001b[0m: logging_callback_manager.py:124 - Cannot add callback - would exceed MAX_CALLBACKS limit of 30. Current callbacks: 30\n",
      "\u001b[92m18:36:41 - LiteLLM:WARNING\u001b[0m: logging_callback_manager.py:124 - Cannot add callback - would exceed MAX_CALLBACKS limit of 30. Current callbacks: 30\n",
      "\u001b[92m18:36:43 - LiteLLM:WARNING\u001b[0m: logging_callback_manager.py:124 - Cannot add callback - would exceed MAX_CALLBACKS limit of 30. Current callbacks: 30\n",
      "\u001b[92m18:36:43 - LiteLLM:WARNING\u001b[0m: logging_callback_manager.py:124 - Cannot add callback - would exceed MAX_CALLBACKS limit of 30. Current callbacks: 30\n",
      "\u001b[92m18:36:43 - LiteLLM:WARNING\u001b[0m: logging_callback_manager.py:124 - Cannot add callback - would exceed MAX_CALLBACKS limit of 30. Current callbacks: 30\n",
      "\u001b[92m18:36:43 - LiteLLM:WARNING\u001b[0m: logging_callback_manager.py:124 - Cannot add callback - would exceed MAX_CALLBACKS limit of 30. Current callbacks: 30\n",
      "\u001b[92m18:36:44 - LiteLLM:WARNING\u001b[0m: logging_callback_manager.py:124 - Cannot add callback - would exceed MAX_CALLBACKS limit of 30. Current callbacks: 30\n",
      "\u001b[92m18:36:44 - LiteLLM:WARNING\u001b[0m: logging_callback_manager.py:124 - Cannot add callback - would exceed MAX_CALLBACKS limit of 30. Current callbacks: 30\n",
      "\u001b[92m18:36:44 - LiteLLM:WARNING\u001b[0m: logging_callback_manager.py:124 - Cannot add callback - would exceed MAX_CALLBACKS limit of 30. Current callbacks: 30\n",
      "\u001b[92m18:36:44 - LiteLLM:WARNING\u001b[0m: logging_callback_manager.py:124 - Cannot add callback - would exceed MAX_CALLBACKS limit of 30. Current callbacks: 30\n",
      "\u001b[92m18:36:48 - LiteLLM:WARNING\u001b[0m: logging_callback_manager.py:124 - Cannot add callback - would exceed MAX_CALLBACKS limit of 30. Current callbacks: 30\n",
      "\u001b[92m18:36:48 - LiteLLM:WARNING\u001b[0m: logging_callback_manager.py:124 - Cannot add callback - would exceed MAX_CALLBACKS limit of 30. Current callbacks: 30\n",
      "\u001b[92m18:36:48 - LiteLLM:WARNING\u001b[0m: logging_callback_manager.py:124 - Cannot add callback - would exceed MAX_CALLBACKS limit of 30. Current callbacks: 30\n",
      "\u001b[92m18:36:48 - LiteLLM:WARNING\u001b[0m: logging_callback_manager.py:124 - Cannot add callback - would exceed MAX_CALLBACKS limit of 30. Current callbacks: 30\n",
      "\u001b[92m18:36:52 - LiteLLM:WARNING\u001b[0m: logging_callback_manager.py:124 - Cannot add callback - would exceed MAX_CALLBACKS limit of 30. Current callbacks: 30\n",
      "\u001b[92m18:36:52 - LiteLLM:WARNING\u001b[0m: logging_callback_manager.py:124 - Cannot add callback - would exceed MAX_CALLBACKS limit of 30. Current callbacks: 30\n",
      "\u001b[92m18:36:52 - LiteLLM:WARNING\u001b[0m: logging_callback_manager.py:124 - Cannot add callback - would exceed MAX_CALLBACKS limit of 30. Current callbacks: 30\n",
      "\u001b[92m18:36:52 - LiteLLM:WARNING\u001b[0m: logging_callback_manager.py:124 - Cannot add callback - would exceed MAX_CALLBACKS limit of 30. Current callbacks: 30\n",
      "\u001b[92m18:36:55 - LiteLLM:WARNING\u001b[0m: logging_callback_manager.py:124 - Cannot add callback - would exceed MAX_CALLBACKS limit of 30. Current callbacks: 30\n",
      "\u001b[92m18:36:55 - LiteLLM:WARNING\u001b[0m: logging_callback_manager.py:124 - Cannot add callback - would exceed MAX_CALLBACKS limit of 30. Current callbacks: 30\n",
      "\u001b[92m18:36:55 - LiteLLM:WARNING\u001b[0m: logging_callback_manager.py:124 - Cannot add callback - would exceed MAX_CALLBACKS limit of 30. Current callbacks: 30\n",
      "\u001b[92m18:36:55 - LiteLLM:WARNING\u001b[0m: logging_callback_manager.py:124 - Cannot add callback - would exceed MAX_CALLBACKS limit of 30. Current callbacks: 30\n",
      "\u001b[92m18:37:10 - LiteLLM:WARNING\u001b[0m: logging_callback_manager.py:124 - Cannot add callback - would exceed MAX_CALLBACKS limit of 30. Current callbacks: 30\n",
      "\u001b[92m18:37:10 - LiteLLM:WARNING\u001b[0m: logging_callback_manager.py:124 - Cannot add callback - would exceed MAX_CALLBACKS limit of 30. Current callbacks: 30\n",
      "\u001b[92m18:37:10 - LiteLLM:WARNING\u001b[0m: logging_callback_manager.py:124 - Cannot add callback - would exceed MAX_CALLBACKS limit of 30. Current callbacks: 30\n",
      "\u001b[92m18:37:10 - LiteLLM:WARNING\u001b[0m: logging_callback_manager.py:124 - Cannot add callback - would exceed MAX_CALLBACKS limit of 30. Current callbacks: 30\n",
      "\u001b[92m18:37:12 - LiteLLM:WARNING\u001b[0m: logging_callback_manager.py:124 - Cannot add callback - would exceed MAX_CALLBACKS limit of 30. Current callbacks: 30\n",
      "\u001b[92m18:37:12 - LiteLLM:WARNING\u001b[0m: logging_callback_manager.py:124 - Cannot add callback - would exceed MAX_CALLBACKS limit of 30. Current callbacks: 30\n",
      "\u001b[92m18:37:12 - LiteLLM:WARNING\u001b[0m: logging_callback_manager.py:124 - Cannot add callback - would exceed MAX_CALLBACKS limit of 30. Current callbacks: 30\n",
      "\u001b[92m18:37:12 - LiteLLM:WARNING\u001b[0m: logging_callback_manager.py:124 - Cannot add callback - would exceed MAX_CALLBACKS limit of 30. Current callbacks: 30\n",
      "\u001b[92m18:37:21 - LiteLLM:WARNING\u001b[0m: logging_callback_manager.py:124 - Cannot add callback - would exceed MAX_CALLBACKS limit of 30. Current callbacks: 30\n",
      "\u001b[92m18:37:21 - LiteLLM:WARNING\u001b[0m: logging_callback_manager.py:124 - Cannot add callback - would exceed MAX_CALLBACKS limit of 30. Current callbacks: 30\n",
      "\u001b[92m18:37:21 - LiteLLM:WARNING\u001b[0m: logging_callback_manager.py:124 - Cannot add callback - would exceed MAX_CALLBACKS limit of 30. Current callbacks: 30\n",
      "\u001b[92m18:37:21 - LiteLLM:WARNING\u001b[0m: logging_callback_manager.py:124 - Cannot add callback - would exceed MAX_CALLBACKS limit of 30. Current callbacks: 30\n",
      "\u001b[92m18:37:27 - LiteLLM:WARNING\u001b[0m: logging_callback_manager.py:124 - Cannot add callback - would exceed MAX_CALLBACKS limit of 30. Current callbacks: 30\n",
      "\u001b[92m18:37:27 - LiteLLM:WARNING\u001b[0m: logging_callback_manager.py:124 - Cannot add callback - would exceed MAX_CALLBACKS limit of 30. Current callbacks: 30\n",
      "\u001b[92m18:37:27 - LiteLLM:WARNING\u001b[0m: logging_callback_manager.py:124 - Cannot add callback - would exceed MAX_CALLBACKS limit of 30. Current callbacks: 30\n",
      "\u001b[92m18:37:27 - LiteLLM:WARNING\u001b[0m: logging_callback_manager.py:124 - Cannot add callback - would exceed MAX_CALLBACKS limit of 30. Current callbacks: 30\n",
      "\u001b[92m18:37:41 - LiteLLM:WARNING\u001b[0m: logging_callback_manager.py:124 - Cannot add callback - would exceed MAX_CALLBACKS limit of 30. Current callbacks: 30\n",
      "\u001b[92m18:37:41 - LiteLLM:WARNING\u001b[0m: logging_callback_manager.py:124 - Cannot add callback - would exceed MAX_CALLBACKS limit of 30. Current callbacks: 30\n",
      "\u001b[92m18:37:41 - LiteLLM:WARNING\u001b[0m: logging_callback_manager.py:124 - Cannot add callback - would exceed MAX_CALLBACKS limit of 30. Current callbacks: 30\n",
      "\u001b[92m18:37:41 - LiteLLM:WARNING\u001b[0m: logging_callback_manager.py:124 - Cannot add callback - would exceed MAX_CALLBACKS limit of 30. Current callbacks: 30\n",
      "\u001b[92m18:37:49 - LiteLLM:WARNING\u001b[0m: logging_callback_manager.py:124 - Cannot add callback - would exceed MAX_CALLBACKS limit of 30. Current callbacks: 30\n",
      "\u001b[92m18:37:49 - LiteLLM:WARNING\u001b[0m: logging_callback_manager.py:124 - Cannot add callback - would exceed MAX_CALLBACKS limit of 30. Current callbacks: 30\n",
      "\u001b[92m18:37:49 - LiteLLM:WARNING\u001b[0m: logging_callback_manager.py:124 - Cannot add callback - would exceed MAX_CALLBACKS limit of 30. Current callbacks: 30\n",
      "\u001b[92m18:37:49 - LiteLLM:WARNING\u001b[0m: logging_callback_manager.py:124 - Cannot add callback - would exceed MAX_CALLBACKS limit of 30. Current callbacks: 30\n",
      "\u001b[92m18:38:06 - LiteLLM:WARNING\u001b[0m: logging_callback_manager.py:124 - Cannot add callback - would exceed MAX_CALLBACKS limit of 30. Current callbacks: 30\n",
      "\u001b[92m18:38:06 - LiteLLM:WARNING\u001b[0m: logging_callback_manager.py:124 - Cannot add callback - would exceed MAX_CALLBACKS limit of 30. Current callbacks: 30\n",
      "\u001b[92m18:38:06 - LiteLLM:WARNING\u001b[0m: logging_callback_manager.py:124 - Cannot add callback - would exceed MAX_CALLBACKS limit of 30. Current callbacks: 30\n",
      "\u001b[92m18:38:06 - LiteLLM:WARNING\u001b[0m: logging_callback_manager.py:124 - Cannot add callback - would exceed MAX_CALLBACKS limit of 30. Current callbacks: 30\n",
      "\u001b[92m18:38:09 - LiteLLM:WARNING\u001b[0m: logging_callback_manager.py:124 - Cannot add callback - would exceed MAX_CALLBACKS limit of 30. Current callbacks: 30\n",
      "\u001b[92m18:38:09 - LiteLLM:WARNING\u001b[0m: logging_callback_manager.py:124 - Cannot add callback - would exceed MAX_CALLBACKS limit of 30. Current callbacks: 30\n",
      "\u001b[92m18:38:09 - LiteLLM:WARNING\u001b[0m: logging_callback_manager.py:124 - Cannot add callback - would exceed MAX_CALLBACKS limit of 30. Current callbacks: 30\n",
      "\u001b[92m18:38:09 - LiteLLM:WARNING\u001b[0m: logging_callback_manager.py:124 - Cannot add callback - would exceed MAX_CALLBACKS limit of 30. Current callbacks: 30\n"
     ]
    },
    {
     "name": "stdout",
     "output_type": "stream",
     "text": [
      "Trajectory completed! Final notebook available at: \n",
      " /home/jovyan/agentic-systems-workspace/automated-epidemiology/tmp_results_dir/baf30796853c5f310e7075aecf8e99b94fb5594147a9ba1c819f69834256ad2f-1750703801.3971999/notebook.ipynb\n",
      "Final agent answer:\n",
      "The notebook is complete and fully addresses the user's query. It demonstrates, via linear regression adjusted for sex, that both higher education and higher income are independently associated with lower depression symptoms. All findings and diagnostics are documented, with clear supporting plots and tables.\n"
     ]
    }
   ],
   "source": [
    "# AVIARY ROLLOUT\n",
    "logger = logging.getLogger(__name__)\n",
    "logger.info(\"Setting up data analysis environment\")\n",
    "\n",
    "dataset = Path(\"cohort-data.csv\")\n",
    "query = \"\"\"The attached dataset contains information about participants in a longitudinal study. \n",
    "Examine how educational attainment and income level relate to mental health outcomes using linear regression anlayses adjusted for sex.\n",
    "\"\"\"\n",
    "environment = setup_data_analysis_env(query, dataset, LANGUAGE)\n",
    "\n",
    "agent = AgentConfig(\n",
    "    agent_type=\"ReActAgent\",\n",
    "    agent_kwargs={\n",
    "        \"llm_model\": {\n",
    "            \"parallel_tool_calls\": False,\n",
    "            \"num_retries\": 3,\n",
    "            \"temperature\": 1.0,\n",
    "            \"name\": MODEL_NAME,\n",
    "        },\n",
    "        \"hide_old_env_states\": True,\n",
    "    },\n",
    ")\n",
    "\n",
    "agent = agent.construct_agent()\n",
    "rollout = RolloutManager(agent=agent)\n",
    "\n",
    "# You can see the notebook updating live in the tmp_results_dir folder\n",
    "result = await rollout.sample_trajectories(\n",
    "    environments=[environment], max_steps=MAX_STEPS\n",
    ")\n",
    "\n",
    "print(\"Trajectory completed! Final notebook available at: \\n\", environment.nb_path)\n",
    "print(f\"Final agent answer:\\n{environment.state.answer}\")"
   ]
  },
  {
   "cell_type": "code",
   "execution_count": null,
   "id": "cd205eb5-fdc7-41de-8dcc-f04ed53de549",
   "metadata": {},
   "outputs": [],
   "source": []
  }
 ],
 "metadata": {
  "kernelspec": {
   "display_name": "data-analysis-crow",
   "language": "python",
   "name": "data-analysis-crow"
  },
  "language_info": {
   "codemirror_mode": {
    "name": "ipython",
    "version": 3
   },
   "file_extension": ".py",
   "mimetype": "text/x-python",
   "name": "python",
   "nbconvert_exporter": "python",
   "pygments_lexer": "ipython3",
   "version": "3.12.0"
  }
 },
 "nbformat": 4,
 "nbformat_minor": 5
}
